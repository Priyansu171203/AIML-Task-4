{
  "nbformat": 4,
  "nbformat_minor": 0,
  "metadata": {
    "colab": {
      "provenance": [],
      "authorship_tag": "ABX9TyNKDLKJolBcRb9ue572YcdS",
      "include_colab_link": true
    },
    "kernelspec": {
      "name": "python3",
      "display_name": "Python 3"
    },
    "language_info": {
      "name": "python"
    }
  },
  "cells": [
    {
      "cell_type": "markdown",
      "metadata": {
        "id": "view-in-github",
        "colab_type": "text"
      },
      "source": [
        "<a href=\"https://colab.research.google.com/github/Priyansu171203/AIML-Task-4/blob/main/task_4.ipynb\" target=\"_parent\"><img src=\"https://colab.research.google.com/assets/colab-badge.svg\" alt=\"Open In Colab\"/></a>"
      ]
    },
    {
      "cell_type": "code",
      "execution_count": null,
      "metadata": {
        "id": "VdgyliE6gsEV"
      },
      "outputs": [],
      "source": [
        "!pip install transformers torch gradio --quiet"
      ]
    },
    {
      "cell_type": "code",
      "source": [
        "from transformers import GPT2LMHeadModel, GPT2Tokenizer\n",
        "import torch\n",
        "import gradio as gr\n",
        "\n",
        "model_name = \"gpt2\"\n",
        "tokenizer = GPT2Tokenizer.from_pretrained(model_name)\n",
        "model = GPT2LMHeadModel.from_pretrained(model_name)\n",
        "\n",
        "tokenizer.pad_token = tokenizer.eos_token\n",
        "model.eval()\n",
        "\n",
        "# Average words per line to estimate tokens length (adjust if you want)\n",
        "AVG_WORDS_PER_LINE = 10\n",
        "\n",
        "def generate_text(prompt, num_lines=10):\n",
        "    try:\n",
        "        prompt_tokens = len(tokenizer.encode(prompt))\n",
        "        # Estimate tokens needed for desired lines\n",
        "        max_new_tokens = num_lines * AVG_WORDS_PER_LINE\n",
        "\n",
        "        max_length = prompt_tokens + max_new_tokens\n",
        "        inputs = tokenizer(prompt, return_tensors='pt', padding=True, truncation=True)\n",
        "\n",
        "        output = model.generate(\n",
        "            input_ids=inputs['input_ids'],\n",
        "            attention_mask=inputs['attention_mask'],\n",
        "            max_length=max_length,\n",
        "            num_return_sequences=1,\n",
        "            no_repeat_ngram_size=2,\n",
        "            do_sample=True,\n",
        "            temperature=0.9,\n",
        "            top_k=50,\n",
        "            top_p=0.95,\n",
        "            pad_token_id=tokenizer.eos_token_id\n",
        "        )\n",
        "\n",
        "        generated_text = tokenizer.decode(output[0], skip_special_tokens=True)\n",
        "        # Remove prompt from output if present\n",
        "        if generated_text.startswith(prompt):\n",
        "            generated_text = generated_text[len(prompt):].strip()\n",
        "\n",
        "        # Limit output to approx num_lines by splitting on newlines or sentences\n",
        "        lines = generated_text.split('\\n')\n",
        "        if len(lines) < num_lines:\n",
        "            # If fewer lines, try splitting by periods as fallback\n",
        "            lines = generated_text.split('. ')\n",
        "\n",
        "        limited_output = '\\n'.join(lines[:num_lines])\n",
        "        return limited_output\n",
        "    except Exception as e:\n",
        "        return f\"[Error]: {e}\"\n"
      ],
      "metadata": {
        "id": "4OTYv0mJgv-H"
      },
      "execution_count": null,
      "outputs": []
    },
    {
      "cell_type": "code",
      "source": [
        "iface = gr.Interface(\n",
        "    fn=generate_text,\n",
        "    inputs=[\n",
        "        gr.Textbox(lines=5, label=\"Enter a prompt\", placeholder=\"Once upon a time...\"),\n",
        "        gr.Slider(1, 100, step=1, value=10, label=\"Number of output lines\")\n",
        "    ],\n",
        "    outputs=gr.Textbox(lines=20, label=\"Generated Text\"),\n",
        "    title=\"🧠 GPT-2 Text Generator by Lines\",\n",
        "    description=\"Enter a prompt and select how many lines of output you want (1 to 100).\"\n",
        ")\n",
        "\n",
        "iface.launch()\n"
      ],
      "metadata": {
        "id": "r69siOBngx79"
      },
      "execution_count": null,
      "outputs": []
    }
  ]
}